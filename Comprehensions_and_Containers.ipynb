{
 "cells": [
  {
   "cell_type": "markdown",
   "metadata": {},
   "source": [
    "### Example 1: List Comprehensions\n",
    "\n",
    "Certain routines are integral to solving almost all programming problems. Here is an example of one such routine:  \n",
    "\n",
    "```python \n",
    "old_list = [item_1, item_2, ..... , item_n]\n",
    "new_list = []\n",
    "for item in old_list:\n",
    "    new_item = do_something_to(item)\n",
    "    new_list.append(new_item)\n",
    "```\n",
    "\n",
    "This routine is so ubiquitous that the notation given above can become cumbersome, especially in larger projects. For this reason, python allows us to use a notational shortcut called **_list comprehensions_**. Consider the following example:"
   ]
  },
  {
   "cell_type": "code",
   "execution_count": 2,
   "metadata": {},
   "outputs": [
    {
     "name": "stdout",
     "output_type": "stream",
     "text": [
      "[1, 4, 9, 16, 25, 36, 49, 64, 81, 100]\n"
     ]
    }
   ],
   "source": [
    "numbers = [1,2,3,4,5,6,7,8,9,10]\n",
    "squares = []\n",
    "for n in numbers:\n",
    "    squares.append(n**2)\n",
    "print(squares)"
   ]
  },
  {
   "cell_type": "markdown",
   "metadata": {},
   "source": [
    "List comprehensions provide an equivalent way to construct the squares lists as follows:"
   ]
  },
  {
   "cell_type": "code",
   "execution_count": 18,
   "metadata": {},
   "outputs": [
    {
     "name": "stdout",
     "output_type": "stream",
     "text": [
      "[1, 4, 9, 16, 25, 36, 49, 64, 81, 100]\n"
     ]
    }
   ],
   "source": [
    "numbers = [1,2,3,4,5,6,7,8,9,10]\n",
    "squares = [n**2 for n in numbers]\n",
    "print(squares)"
   ]
  },
  {
   "cell_type": "markdown",
   "metadata": {},
   "source": [
    "Just like with a regular \"for-loop\", we can also add conditions to our list comprehensions. For example, this code:"
   ]
  },
  {
   "cell_type": "code",
   "execution_count": 4,
   "metadata": {},
   "outputs": [
    {
     "name": "stdout",
     "output_type": "stream",
     "text": [
      "[1.0, 2.0, 3.0]\n"
     ]
    }
   ],
   "source": [
    "from math import sqrt\n",
    "numbers = [1,2,3,4,5,6,7,8,9,10]\n",
    "\n",
    "int_square_roots = []\n",
    "for n in numbers:\n",
    "    # Check for perfect squares\n",
    "    if sqrt(n) == int(sqrt(n)):\n",
    "        int_square_roots.append(sqrt(n))\n",
    "        \n",
    "print(int_square_roots)"
   ]
  },
  {
   "cell_type": "markdown",
   "metadata": {},
   "source": [
    "is equivalent to this code:"
   ]
  },
  {
   "cell_type": "code",
   "execution_count": 5,
   "metadata": {},
   "outputs": [
    {
     "name": "stdout",
     "output_type": "stream",
     "text": [
      "[1.0, 2.0, 3.0]\n"
     ]
    }
   ],
   "source": [
    "from math import sqrt\n",
    "numbers = [1,2,3,4,5,6,7,8,9]\n",
    "\n",
    "int_square_roots = [sqrt(n) for n in numbers if sqrt(n) == int(sqrt(n))]\n",
    "print(int_square_roots)"
   ]
  },
  {
   "cell_type": "markdown",
   "metadata": {},
   "source": [
    "### Example 2: Set Comprehensions\n",
    "\n",
    "The comprehension construction does not end with lists. We can also use comprehension notation to construct other containers like sets. Again, we will start with a basic loop:"
   ]
  },
  {
   "cell_type": "code",
   "execution_count": 19,
   "metadata": {},
   "outputs": [
    {
     "name": "stdout",
     "output_type": "stream",
     "text": [
      "{1, 4, 9, 16, 25}\n"
     ]
    }
   ],
   "source": [
    "numbers = [1,2,3,4,5,1,2,3,4,5]\n",
    "distinct_squares = set()\n",
    "\n",
    "for n in numbers:\n",
    "    distinct_squares.add(n**2)\n",
    "    \n",
    "print(distinct_squares)    "
   ]
  },
  {
   "cell_type": "markdown",
   "metadata": {},
   "source": [
    "Equivalently, we can express this loop as a comprehension:"
   ]
  },
  {
   "cell_type": "code",
   "execution_count": 21,
   "metadata": {},
   "outputs": [
    {
     "name": "stdout",
     "output_type": "stream",
     "text": [
      "{1, 4, 9, 16, 25}\n"
     ]
    }
   ],
   "source": [
    "numbers = [1,2,3,4,5,1,2,3,4,5]\n",
    "distinct_squares = set(n**2 for n in numbers)\n",
    "print(distinct_squares)"
   ]
  },
  {
   "cell_type": "markdown",
   "metadata": {},
   "source": [
    "### Example 3: Dictionary Comprehensions\n",
    "\n",
    "As with sets and lists, we can also use a comprehension to construct a dictionary. Once again, we see that this loop:"
   ]
  },
  {
   "cell_type": "code",
   "execution_count": 7,
   "metadata": {},
   "outputs": [
    {
     "name": "stdout",
     "output_type": "stream",
     "text": [
      "{'a': 1, 'b': 4, 'c': 9, 'd': 16, 'e': 25}\n"
     ]
    }
   ],
   "source": [
    "old_dict = {'a':1,'b':2,'c':3,'d':4,'e':5}\n",
    "new_dict = {}\n",
    "\n",
    "for key, value in old_dict.items():\n",
    "    new_dict[key] = value**2\n",
    "    \n",
    "print(new_dict)"
   ]
  },
  {
   "cell_type": "markdown",
   "metadata": {},
   "source": [
    "is equivalent to this dictionary comprehension:"
   ]
  },
  {
   "cell_type": "code",
   "execution_count": 8,
   "metadata": {},
   "outputs": [
    {
     "name": "stdout",
     "output_type": "stream",
     "text": [
      "{'a': 1, 'b': 4, 'c': 9, 'd': 16, 'e': 25}\n"
     ]
    }
   ],
   "source": [
    "old_dict = {'a':1,'b':2,'c':3,'d':4,'e':5}\n",
    "new_dict = dict((key, value**2) for key, value in old_dict.items())\n",
    "print(new_dict)"
   ]
  },
  {
   "cell_type": "markdown",
   "metadata": {},
   "source": [
    "### Example 4: Zip and Enumerate\n",
    "\n",
    "The final two standard library tools we will explore are called `zip` and `enumerate`. Both of these tools can be used to pair up the elements of two lists which have the same length. While zip can be used to pair up the elements of any two lists, enumerate will alway pair up the elements of a list with their indices. Let's look at some examples. \n",
    "\n",
    "\n",
    "First, here is a simple use of `zip`"
   ]
  },
  {
   "cell_type": "code",
   "execution_count": 9,
   "metadata": {},
   "outputs": [
    {
     "name": "stdout",
     "output_type": "stream",
     "text": [
      "Adam 85\n",
      "Sarah 75\n",
      "John 65\n",
      "Anna 100\n",
      "Jack 80\n"
     ]
    }
   ],
   "source": [
    "group_names = ['Adam', 'Sarah', 'John', 'Anna', 'Jack']\n",
    "group_scores = [85,75,65,100,80]\n",
    "for name, score in zip(group_names, group_scores):\n",
    "    print(name, score)"
   ]
  },
  {
   "cell_type": "markdown",
   "metadata": {},
   "source": [
    "Next, we see that `enumerate` works the same way:"
   ]
  },
  {
   "cell_type": "code",
   "execution_count": 10,
   "metadata": {},
   "outputs": [
    {
     "name": "stdout",
     "output_type": "stream",
     "text": [
      "0 Adam\n",
      "1 Sarah\n",
      "2 John\n",
      "3 Anna\n",
      "4 Jack\n"
     ]
    }
   ],
   "source": [
    "group_names = ['Adam', 'Sarah', 'John', 'Anna', 'Jack']\n",
    "for index, name in enumerate(group_names):\n",
    "    print(index, name)"
   ]
  },
  {
   "cell_type": "markdown",
   "metadata": {},
   "source": [
    "Notice that although we only gave a single list as an input to enumerate, it outputs both an index and an element of the list at each iteration of our loop. We catch these two outputs at each step with the variables 'index' and 'name'. Since enumerate is a special case of zip, we could have written the following equivalent piece of code instead:"
   ]
  },
  {
   "cell_type": "code",
   "execution_count": 11,
   "metadata": {},
   "outputs": [
    {
     "name": "stdout",
     "output_type": "stream",
     "text": [
      "0 Adam\n",
      "1 Sarah\n",
      "2 John\n",
      "3 Anna\n",
      "4 Jack\n"
     ]
    }
   ],
   "source": [
    "group_names = ['Adam', 'Sarah', 'John', 'Anna', 'Jack']\n",
    "group_index = list(range(len(group_names)))\n",
    "for index, name in zip(group_index, group_names):\n",
    "    print(index, name)"
   ]
  },
  {
   "cell_type": "markdown",
   "metadata": {},
   "source": [
    "In general, it's probably best not to use `zip` in this way. Use `enumerate` when you want to pair the items of a list to their indices instead of creating a list of indices explicitly. If you want to pair up the elements of two different lists, then use `zip`."
   ]
  },
  {
   "cell_type": "markdown",
   "metadata": {},
   "source": [
    "### Example 5: Constructing Containers with Zip and Enumerate\n",
    "\n",
    "One especially common application of `zip` and `enumerate` is to help convert multiple lists into a more complicated container. We saw in example 3 that comprehensions make it easy to construct dictionaries from other dictionaries. Now, let's see how we can use dictionary comprehensions together with `zip` or `enumerate` to construct a dictionary from two lists."
   ]
  },
  {
   "cell_type": "code",
   "execution_count": 12,
   "metadata": {},
   "outputs": [
    {
     "name": "stdout",
     "output_type": "stream",
     "text": [
      "{'Adam': 85, 'Sarah': 75, 'John': 65, 'Anna': 100, 'Jack': 80}\n"
     ]
    }
   ],
   "source": [
    "group_names = ['Adam', 'Sarah', 'John', 'Anna', 'Jack']\n",
    "group_scores = [85,75,65,100,80]\n",
    "\n",
    "my_dict = dict((name, score) for name, score in zip(group_names,group_scores))\n",
    "print(my_dict)"
   ]
  },
  {
   "cell_type": "markdown",
   "metadata": {},
   "source": [
    "The above example is written in the usual comprehension format which we saw in the first three examples. However, `dict` will also allow us to pass in a `zip` object directly:"
   ]
  },
  {
   "cell_type": "code",
   "execution_count": 13,
   "metadata": {},
   "outputs": [
    {
     "name": "stdout",
     "output_type": "stream",
     "text": [
      "{'Adam': 85, 'Sarah': 75, 'John': 65, 'Anna': 100, 'Jack': 80}\n"
     ]
    }
   ],
   "source": [
    "group_names = ['Adam', 'Sarah', 'John', 'Anna', 'Jack']\n",
    "group_scores = [85,75,65,100,80]\n",
    "\n",
    "my_dict = dict(zip(group_names,group_scores))\n",
    "print(my_dict)"
   ]
  },
  {
   "cell_type": "markdown",
   "metadata": {},
   "source": [
    "We can also pass an `enumerate` object directly to `dict`. This can be especially useful for using dictionaries with a `map`. One common example is in the case of a colormap, where integers are mapped to colors. Here is an example:"
   ]
  },
  {
   "cell_type": "code",
   "execution_count": 49,
   "metadata": {},
   "outputs": [
    {
     "data": {
      "image/png": "[encoded data removed]",
      "text/plain": [
       "<Figure size 720x360 with 2 Axes>"
      ]
     },
     "metadata": {
      "needs_background": "light"
     },
     "output_type": "display_data"
    }
   ],
   "source": [
    "import matplotlib.pyplot as plt\n",
    "import numpy as np\n",
    "\n",
    "x = np.random.random(100)\n",
    "y = np.random.random(100)\n",
    "c = np.random.randint(0,3,100)\n",
    "\n",
    "## Plotting without a colormap ##\n",
    "fig, ax = plt.subplots(ncols = 2, figsize=(10,5))\n",
    "ax[0].scatter(x,y,c=c)\n",
    "ax[0].set_title('Default Colormap')\n",
    "\n",
    "## Create a colormap, then map the ints in 'c' to the names of the colors we want ##\n",
    "colors = ['red', 'green', 'blue']\n",
    "my_cmap = dict(enumerate(colors))\n",
    "rgb = list(map(lambda x: my_cmap[x], c))\n",
    "\n",
    "## Plotting after the colormap ##\n",
    "ax[1].scatter(x,y,c=rgb)\n",
    "ax[1].set_title('My colormap')\n",
    "plt.show()"
   ]
  },
  {
   "cell_type": "markdown",
   "metadata": {},
   "source": [
    "### Example 6: Numpy Stack\n",
    "\n",
    "Finally, we will explore a function from the numpy library called `stack`. The `stack` function applied along the y-axis (1-axis) has essentially the same function as `zip`. The main reason to use `stack` is when you are working with numpy arrays and you want all of your objects to stay numpy arrays. Here is a simple usage example:"
   ]
  },
  {
   "cell_type": "code",
   "execution_count": 83,
   "metadata": {},
   "outputs": [
    {
     "name": "stdout",
     "output_type": "stream",
     "text": [
      "Stacked along axis 0: \n",
      "\n",
      " [[  1   2   3   4   5   6   7   8   9  10]\n",
      " [  1   4   9  16  25  36  49  64  81 100]] \n",
      "\n",
      "Stacked along axis 1: \n",
      "\n",
      " [[  1   1]\n",
      " [  2   4]\n",
      " [  3   9]\n",
      " [  4  16]\n",
      " [  5  25]\n",
      " [  6  36]\n",
      " [  7  49]\n",
      " [  8  64]\n",
      " [  9  81]\n",
      " [ 10 100]] \n",
      "\n"
     ]
    }
   ],
   "source": [
    "a = np.array([1,2,3,4,5,6,7,8,9,10])\n",
    "b = a**2\n",
    "c = np.stack((a,b), axis=0)\n",
    "print('Stacked along axis 0: \\n\\n', c, '\\n')\n",
    "c = np.stack((a,b), axis=1)\n",
    "print('Stacked along axis 1: \\n\\n', c, '\\n')"
   ]
  }
 ],
 "metadata": {
  "kernelspec": {
   "display_name": "Python 3",
   "language": "python",
   "name": "python3"
  },
  "language_info": {
   "codemirror_mode": {
    "name": "ipython",
    "version": 3
   },
   "file_extension": ".py",
   "mimetype": "text/x-python",
   "name": "python",
   "nbconvert_exporter": "python",
   "pygments_lexer": "ipython3",
   "version": "3.6.7"
  }
 },
 "nbformat": 4,
 "nbformat_minor": 2
}
