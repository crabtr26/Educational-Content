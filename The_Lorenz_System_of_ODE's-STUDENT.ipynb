{
 "cells": [
  {
   "cell_type": "markdown",
   "metadata": {},
   "source": [
    "# CMSE Bootcamp - The Lorenz System of ODE's\n",
    "<img src=\"http://paulbourke.net/fractals/lorenz/new1.png\" width=500px>"
   ]
  },
  {
   "cell_type": "markdown",
   "metadata": {},
   "source": [
    "## Goals for this notebook\n",
    "\n",
    "1. Get more practice using odeint to solve systems of differential equations\n",
    "1. Learn about the Lorenz system of ODE's\n",
    "1. Consider a few interesting solutions to the system, including the so-called \"chaotic\" solutions"
   ]
  },
  {
   "cell_type": "code",
   "execution_count": null,
   "metadata": {
    "collapsed": true
   },
   "outputs": [],
   "source": [
    "#IMPORTS WE WILL NEED\n",
    "%matplotlib inline\n",
    "import numpy as np\n",
    "import matplotlib.pyplot as plt\n",
    "import mpl_toolkits.mplot3d.axes3d \n",
    "from scipy.integrate import odeint"
   ]
  },
  {
   "cell_type": "markdown",
   "metadata": {},
   "source": [
    "## Introduction to the Lorenz System\n",
    "\n",
    "The Lorenz System, named after Edward Lorenz, is a set of three ordinary differential equations first used in the study of atmospheric convection. Edward Lorenz was a meteorologist and a mathematician at MIT who is best known for his pioneering contributions to a field of mathematics known as chaos theory. In short, chaos theory is a branch of mathematics dedicated to the study of dynamic systems whose behavior is totally deterministic, but extrodinarily hard to predict due to an extreme sensitivity to initial conditions of the system. Lorenz is also known for coining the term \"butterfly effect\" which he used to reference both the geometrical shape of the so-called Lorenz attractor which is pictured above, and as a metaphor Lorenz popularized to describe chaotic systems (you may have heard about a butterfly flapping it's wings in China causing a hurricane in the United States). Today we will use __odeint__ to solve the Lorenz System, and at the end of the notebook we will reproduce our own Lorenz attractor!"
   ]
  },
  {
   "cell_type": "markdown",
   "metadata": {},
   "source": [
    "## STEP 1: Identifying Paramaters and State Variables\n",
    "\n",
    "*NOTE: If you already feel comfortable interpreting differential equations, feel free to skip this section and move directly to step 2.*\n",
    "___\n",
    "The first step to solving a system of differential equations using python and odeint is to identify which symbols in our equations correspond to state variables, and which symbols correspond to parameters. The number of state variables is always equal to the number of equations in the system but the number of parameters can vary depending on the situation we are studying. When presented with a system of differential equations, an easy way to identify the state variables is to look at the expressions on the left-hand side of the equation. If you see a derivative expression like $\\frac{dy}{dt}$ then you know that $y$ is a state variable for the whole system. In practice, you may first have to do some algebraic manipulations of your equations so that you get all of your derivative expressions on the left-hand side and everything else on the right-hand side. Once you have identified all of the state variables for the system, the remaining symbols on the right-hand side of the equations correspond to parameters. Let's take a look at a few basic examples we have already encountered.\n",
    "\n",
    "$$\\frac{dy}{dt} = y.$$\n",
    "\n",
    "This (single equation) system presents us the simplest possible case. We have one equation, and therefore one state variable, $y$. Since there are no other symbols on the right-hand side, we see that this system has zero parameters.\n",
    "\n",
    "Here is another example:\n",
    "\n",
    "$$\\frac{dx}{dt} = -\\alpha x.$$\n",
    "\n",
    "This (single equation) system was used earlier in the course as a simple model of a viral population. In this model we still have just one equation and therefore we have just one state variable, $x$. However, we still have one symbol, $\\alpha$, remaining on the right-hand side of the equation. This remaining symbol must be a parameter so that in this example, our system contains one equation, one state variable, and one parameter.\n",
    "\n",
    "Let's take a look at a slightly more complicated system:\n",
    "\n",
    "$$\\frac{dx}{dt} = y -\\alpha x.$$\n",
    "\n",
    "$$\\frac{dy}{dt} = \\beta y.$$ \n",
    "\n",
    "\n",
    "I want to emphasize for a second that there is a just one single set of state variables, and one single set of parameters for the entire system of equations. If you only look at  the first equation, you may be tempted to say that $y$ is a parameter for the system, but this is not the case. Since we see $\\frac{dy}{dt}$ on the left-hand side of the second equation, we know that $y$ must be a state variable for the entire system of equations. Since we also see $\\frac{dx}{dt}$ on the left-hand side of the first equation, we know that $x$ must the other state variable for our two equation system. Now, we are left with two remaining symbols on the right hand side, $\\alpha$ and $\\beta$, so these must be our parameters.\n",
    "\n",
    "Now that we have had some review, let's take a look at the Lorenz System and try to identify the parameters and state variables. Remember that the Lorenz system of equations looks like this:\n",
    "\n",
    "$$\\frac{dx}{dt} = \\sigma (y-x),$$\n",
    "\n",
    "$$\\frac{dy}{dt} = x(\\rho - z) - y$$\n",
    "\n",
    "$$\\frac{dz}{dt} = xy - \\beta z,$$"
   ]
  },
  {
   "cell_type": "markdown",
   "metadata": {},
   "source": [
    "___\n",
    "\n",
    "(Double-click inside to edit this markdown cell)\n",
    "\n",
    "__State Variables__ = \n",
    "\n",
    "__Parameters__ = \n",
    "\n",
    "___"
   ]
  },
  {
   "cell_type": "markdown",
   "metadata": {},
   "source": [
    "## STEP 2: Define a Derivative Function\n",
    "\n",
    "Now that we have parsed our mathematical equations, we are ready to define our derivative equation in python. Every derivative equation we use in this course can be roughly broken down into the same five-part structure: inputs, state variables, parameters, differential equations, and outputs. All derivative functions will start out with a function definition containing two inputs: a state vector and a time. The state vector will be a list object that contains a numerical value for each of our state variables, and the time will also be a numerical value, measured in seconds, hours, days, etc. depending on our situation. We will prepare an initial state vector as a starting input for our derivative function in the next step. In the remainder of our derivative function, we define our inputs by unpacking the state vector using python's list indexing, and choose constant values for our parameters. Then we will define our differential equations and finally, output all of those differential equations. Every derivative function should have a list of outputs containing one derivative for each state variable in the system.\n",
    "\n",
    "Let's take a look at an example of a derivative function for this system we encountered above:\n",
    "\n",
    "\n",
    "$$\\frac{dx}{dt} = y -\\alpha x.$$\n",
    "\n",
    "$$\\frac{dy}{dt} = \\beta y.$$ "
   ]
  },
  {
   "cell_type": "markdown",
   "metadata": {},
   "source": [
    "___\n",
    "\n",
    "Here is an example of a derivative function for this system.\n",
    "```python\n",
    "\n",
    "### PART 1 ###\n",
    "# Define a derivative function with two inputs\n",
    "def deriv(state, t):\n",
    "    \n",
    "    ### PART 2 ###\n",
    "    # Define our state variables by unpacking the state vector\n",
    "    x = state[0]\n",
    "    y = state[1]\n",
    "    \n",
    "    ### PART 3 ###\n",
    "    # Choose our parameters\n",
    "    alpha = 7.0\n",
    "    beta = 12.0 / 5.0\n",
    "   \n",
    "    ### PART 4 ###\n",
    "    # Define our differential equations\n",
    "    dxdt = y - alpha * x\n",
    "    dydt = beta * y\n",
    "    \n",
    "    ### PART 5 ###\n",
    "    # Output our derivatives\n",
    "    return dxdt, dydt\n",
    "\n",
    "```\n",
    "___"
   ]
  },
  {
   "cell_type": "markdown",
   "metadata": {},
   "source": [
    "Now that we got a refresher on derivative functions, let's try to write one for the Lorenz System. Here are our equations again:\n",
    "\n",
    "$$\\frac{dx}{dt} = \\sigma (y-x),$$\n",
    "\n",
    "$$\\frac{dy}{dt} = x(\\rho - z) - y$$\n",
    "\n",
    "$$\\frac{dz}{dt} = xy - \\beta z,$$\n",
    "\n",
    "In the cell below, define a derivative function for the Lorenz System."
   ]
  },
  {
   "cell_type": "code",
   "execution_count": null,
   "metadata": {
    "collapsed": true
   },
   "outputs": [],
   "source": [
    "### TYPE YOUR ANSWER HERE ###"
   ]
  },
  {
   "cell_type": "markdown",
   "metadata": {},
   "source": [
    "## STEP 3: Create an Initial State Vector\n",
    "\n",
    "Now that we have identified which of the values in our system are parameters, and which are state variables, we need to assign our state variables some initial values. Remember, we use python's list structure to represent state vectors. In the cell below, create an initial state vector with the following initial conditions:\n",
    "\n",
    "$$x_{0} = 0$$\n",
    "$$y_{0} = 1$$\n",
    "$$z_{0} = 2$$\n",
    "\n",
    "** Make sure that the order of the values in your initial state vector are the same as the order in which you unpacked the state vector in your derivative function above.**\n",
    "\n",
    "___"
   ]
  },
  {
   "cell_type": "code",
   "execution_count": null,
   "metadata": {
    "collapsed": true
   },
   "outputs": [],
   "source": [
    "### TYPE YOUR ANSWER HERE ###"
   ]
  },
  {
   "cell_type": "markdown",
   "metadata": {},
   "source": [
    "## STEP 4: Create a Time Interval\n",
    "\n",
    "Now that we have defined a derivative function and set some initial conditions, we just have one object left to create before we are ready to use __odeint__. The third input for __odeint__ is an array object containing a list of timepoints where you want to calculate the derivatives and update the system. Recall that we can use numpy's arange function to create an evenly spaced time interval object. If you forgot how to use the np.arange function, check out the docs page found here: https://docs.scipy.org/doc/numpy/reference/generated/numpy.arange.html\n",
    "___\n",
    "In the cell below, create a time interval object using numpys arange function. Use the values t_start = 0, t_final = 60, $\\Delta t$ = 0.01."
   ]
  },
  {
   "cell_type": "code",
   "execution_count": null,
   "metadata": {},
   "outputs": [],
   "source": [
    "### TYPE YOUR ANSWER HERE ###"
   ]
  },
  {
   "cell_type": "markdown",
   "metadata": {},
   "source": [
    "## STEP 5: Solve the System \n",
    "\n",
    "Now that we have created all of the input objects that we need for __odeint__, we are ready to compute the solution to our system.\n",
    "\n",
    "**Make sure to pass the __odeint__ function three inputs: our derivative function, initial state vector, and time interval.**\n",
    "\n",
    "*NOTE: The observant student may notice that we are missing a step from the list outlined in the Day-10 Pre-Class assignment. In this notebook, we chose to define our parameters inside of our derivative function above, rather than outside. We did this here to make sure that we always have the same parameters any time we call our derivative function, but either method will work fine for our purposes.*\n",
    "___\n",
    "In the cell below, call the __odeint__ function and store the output in a variable called solution. "
   ]
  },
  {
   "cell_type": "code",
   "execution_count": null,
   "metadata": {},
   "outputs": [],
   "source": [
    "### TYPE YOUR ANSWER HERE ###"
   ]
  },
  {
   "cell_type": "markdown",
   "metadata": {},
   "source": [
    "Let's briefly review the structure of the solution that __odeint__ outputs. Underneath the hood, our solution variable from above should contain a matrix object which looks like this:\n",
    "\n",
    "\n",
    "$$ \\text{Solution} = \n",
    "\\begin{bmatrix}\n",
    "    x_{0} & y_{0} & z_{0} \\\\\n",
    "    x_{1} & y_{1} & z_{1} \\\\\n",
    "    x_{2} & y_{2} & z_{2} \\\\\n",
    "    \\vdots & \\vdots & \\vdots \\\\\n",
    "    x_{n} & y_{n} & z_{n} \n",
    "\\end{bmatrix} $$\n",
    "\n",
    "Notice that each row of the solution matrix contains a single state vector, starting with the initial state vector $[x_{0}, y_{0}, z_{0}]$ that we provided. Here there are $n$ total state vectors in our solution, where $n$ is equal to the number of time steps in our time interval object. Let's print out our solution and take a look."
   ]
  },
  {
   "cell_type": "code",
   "execution_count": null,
   "metadata": {},
   "outputs": [],
   "source": [
    "### TYPE YOUR ANSWER HERE ###"
   ]
  },
  {
   "cell_type": "markdown",
   "metadata": {},
   "source": [
    "___\n",
    "If everything is working correctly, you should see a nested list object with the values [0 1 2] in the first row. This is the initial state vector that we gave our system to begin with. In the second row, we see the result obtained by applying the update step to the initial state vector.Then in the third row, we see the result obtained by applying the update step to the second row, and so-on. Notice that the first column of our solution object contains the entire list of $x$ values through each of our $n$ time steps. Likewise, the second column contains all of our $y$ values, and the third column contains all of our $z$ values. In order to visualize our solution in the final step, it will be useful to unpack our solution object into three lists containing the three columns of our solution matrix. As a reminder, here are some ways we can unpack matrix objects:\n",
    "\n",
    "```python\n",
    "# remember that python indexing starts at 0\n",
    "entry_i_j = matrix[i,j]\n",
    "row_i = matrix[i,:]\n",
    "column_i = matrix[:,i]\n",
    "\n",
    "# rows starting at i, up to but not including j\n",
    "rows_i_to_j = matrix[i:j,:]\n",
    "\n",
    "# columns starting at i, up to but not including j\n",
    "columns_i_to_j = matrix[:,i:j]\n",
    "\n",
    "```\n",
    "For more info on unpacking matrices, consult the docs page for numpy array indexing found here: https://docs.scipy.org/doc/numpy/reference/arrays.indexing.html\n",
    "___\n",
    "In the cell below, unpack the solution matrix into three lists. Each list should contain all of the values in our solution for a single state variable."
   ]
  },
  {
   "cell_type": "code",
   "execution_count": null,
   "metadata": {
    "collapsed": true
   },
   "outputs": [],
   "source": [
    "### TYPE YOUR ANSWER HERE ###"
   ]
  },
  {
   "cell_type": "markdown",
   "metadata": {},
   "source": [
    "___\n",
    "As a final check,  we know that all of our lists above and our time interval object should have the same length. Let's check this in the cell below."
   ]
  },
  {
   "cell_type": "code",
   "execution_count": null,
   "metadata": {},
   "outputs": [],
   "source": [
    "### TYPE YOUR ANSWER HERE ###"
   ]
  },
  {
   "cell_type": "markdown",
   "metadata": {},
   "source": [
    "## STEP 6: Interpret the Solution with Plots\n",
    "\n",
    "In the final step, we want to visualize our solution using matplotlib. To begin, let's start out studying the parameters that Lorenz used in his original research. These parameters give rise to the famous \"chaotic\" solution to the system as well as the so-called \"strange attractor\" in the state-space representation for the system. Hopefully you were able to identify the three parameters for the Lorenz System which are $\\rho$, $\\sigma$, and $\\beta$. If you didn't identify these three, go back and fix your derivative function now. Edit your derivative function so that the values of the parameters are $\\rho = 28$, $\\sigma = 10$, and $\\beta = \\frac{8}{3}$ and then execute that cell to update the parameters for our system."
   ]
  },
  {
   "cell_type": "markdown",
   "metadata": {},
   "source": [
    "Since each of our state variables evolves in time, one interesting way to visualize our data is to plot out each individual state variable as a function of time. We can use matplotlib's subplots function to create one figure containing a separate plot for each state variable. If you need a refresher on subplots, consult the matplotlib docs page found here:\n",
    "https://matplotlib.org/api/_as_gen/matplotlib.pyplot.subplots.html\n",
    "\n",
    "You can also check out this subplot example from matplotlib's example gallery: https://matplotlib.org/gallery/subplots_axes_and_figures/subplot_demo.html#sphx-glr-gallery-subplots-axes-and-figures-subplot-demo-py\n",
    "___\n",
    "In the cell below, create a figure with three subplots, one for each state variable versus time."
   ]
  },
  {
   "cell_type": "code",
   "execution_count": null,
   "metadata": {},
   "outputs": [],
   "source": [
    "### TYPE YOUR ANSWER HERE ###"
   ]
  },
  {
   "cell_type": "markdown",
   "metadata": {},
   "source": [
    "Another common way of visualizing our data is to see how all of our state variables evolve with respect to one-another. This method of representing our data is commonly refered to as a \"state-space\" or a \"feature-space\" representation. Since the Lorenz System contains three state variables, we will need to use a 3-d plot to visualize our state-space. For help on creating 3-d plots, consult the matplotlib 3-d plot tutorial found here: https://matplotlib.org/mpl_toolkits/mplot3d/tutorial.html\n",
    "\n",
    "You can also check out some of the examples found on the matplot3d examples page: https://matplotlib.org/examples/mplot3d/index.html\n",
    "___\n",
    "In the cell below, create a 3-d plot of the state-space for the Lorenz System. "
   ]
  },
  {
   "cell_type": "code",
   "execution_count": null,
   "metadata": {},
   "outputs": [],
   "source": [
    "### TYPE YOUR ANSWER HERE ###"
   ]
  },
  {
   "cell_type": "markdown",
   "metadata": {},
   "source": [
    "___\n",
    "Finally, as promised, we should see the strange attractor pictured at the beginning of this notebook! If you want to move around your 3-d plot, go back to the imports cell at the beginning of the notebook and comment out the line that contains \"%matplotlib inline\". You may need to restart your kernel, then run everything again. When you execute the 3-d plot again, new window should appear where you can rotate your plot around using your mouse/keypad. If you are interested in exploring the model further, try playing with the initial conditions in our initial state vector. You can also try changing the values of the parameters in the derivatives function. As it turns out, $\\rho$ is usually the most interesting parameter. Try setting the $\\rho$ parameter to 100.50 or 99.65 to see some interesting behavior in the state-space. These values for $\\rho$ no longer give rise to a chaotic solution to the system. In fact, these new solutions will be periodic so that the path in our state-space should start to repeat!\n",
    "\n",
    "### Congratulations, you're done!\n",
    "\n",
    "Good luck on the exam!"
   ]
  }
 ],
 "metadata": {
  "kernelspec": {
   "display_name": "Python 3",
   "language": "python",
   "name": "python3"
  },
  "language_info": {
   "codemirror_mode": {
    "name": "ipython",
    "version": 3
   },
   "file_extension": ".py",
   "mimetype": "text/x-python",
   "name": "python",
   "nbconvert_exporter": "python",
   "pygments_lexer": "ipython3",
   "version": "3.6.5"
  }
 },
 "nbformat": 4,
 "nbformat_minor": 1
}
